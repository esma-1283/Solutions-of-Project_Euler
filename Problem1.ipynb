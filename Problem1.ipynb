{
 "cells": [
  {
   "cell_type": "markdown",
   "metadata": {},
   "source": [
    "## Problem 1"
   ]
  },
  {
   "cell_type": "markdown",
   "metadata": {},
   "source": [
    "If we list all the natural numbers below 10\n",
    " that are multiples of \n",
    " 3 or 5\n",
    ", we get \n",
    " and \n",
    ". The sum of these multiples is 23\n",
    ".\n",
    "\n",
    "Find the sum of all the multiples of \n",
    " 3 or 5\n",
    " below 1000\n",
    "."
   ]
  },
  {
   "cell_type": "code",
   "execution_count": 4,
   "metadata": {},
   "outputs": [
    {
     "data": {
      "text/plain": [
       "233168"
      ]
     },
     "execution_count": 4,
     "metadata": {},
     "output_type": "execute_result"
    }
   ],
   "source": [
    "x=1\n",
    "List=[]\n",
    "while (1000>x>=1):\n",
    "    if x%3==0:\n",
    "        List.append(x)\n",
    "        x+=1\n",
    "    elif x%5==0:\n",
    "        List.append(x)\n",
    "        x+=1\n",
    "    else:\n",
    "        x+=1\n",
    "c=0\n",
    "for i in List:\n",
    "    c+=i\n",
    "c\n",
    "\n"
   ]
  }
 ],
 "metadata": {
  "kernelspec": {
   "display_name": "Python 3",
   "language": "python",
   "name": "python3"
  },
  "language_info": {
   "codemirror_mode": {
    "name": "ipython",
    "version": 3
   },
   "file_extension": ".py",
   "mimetype": "text/x-python",
   "name": "python",
   "nbconvert_exporter": "python",
   "pygments_lexer": "ipython3",
   "version": "3.12.7"
  }
 },
 "nbformat": 4,
 "nbformat_minor": 2
}
