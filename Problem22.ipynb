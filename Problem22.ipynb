{
 "cells": [
  {
   "cell_type": "markdown",
   "metadata": {},
   "source": [
    "## Problem22\n",
    "[Project Euler Problem22](https://projecteuler.net/problem=22)"
   ]
  },
  {
   "cell_type": "code",
   "execution_count": null,
   "metadata": {},
   "outputs": [
    {
     "name": "stdout",
     "output_type": "stream",
     "text": [
      "<class 'str'>\n",
      "5162\n",
      "5163\n",
      "871198282\n"
     ]
    }
   ],
   "source": [
    "Dict_letter={\"a\":1, \"b\":2, \"c\":3, \"d\":4, \"e\":5, \"f\":6, \"g\":7, \"h\":8, \"i\":9, \"j\":10, \"k\":11, \"l\":12, \"m\":13, \"n\":14, \"o\":15, \"p\":16, \"q\":17, \"r\":18, \"s\":19, \"t\":20, \"u\":21, \"v\":22, \"w\":23, \"x\":24, \"y\":25, \"z\":26}\n",
    "\n",
    "def score_of_name(string):\n",
    "    Sum=0\n",
    "    for i in string:\n",
    "        Sum+=Dict_letter[i.lower()]\n",
    "    return Sum\n",
    "\n",
    "\n",
    "with open(\"names.txt\",\"r+\") as file:\n",
    "    name_file=(file.read())\n",
    "    print(type(name_file))\n",
    "\n",
    "\n",
    "names=\"\"\n",
    "name_list=[]\n",
    "\n",
    "for i in name_file:\n",
    "    if i=='\"':\n",
    "        continue\n",
    "    elif i==\",\":\n",
    "        name_list.append(names)\n",
    "        names=\"\"\n",
    "    else:\n",
    "        names+=i\n",
    "\n",
    "print(len(name_list))\n",
    "name_list.append(names)#Developed by Esma Tanşa\n",
    "print(len(name_list))\n",
    "name_list.sort()\n",
    "\n",
    "List_indeks=list(range(1,5164))\n",
    "Total=0\n",
    "\n",
    "for a,b in zip(name_list,List_indeks):\n",
    "    Total+=score_of_name(a)*b\n",
    "\n",
    "print(Total)\n"
   ]
  }
 ],
 "metadata": {
  "kernelspec": {
   "display_name": "Python 3",
   "language": "python",
   "name": "python3"
  },
  "language_info": {
   "codemirror_mode": {
    "name": "ipython",
    "version": 3
   },
   "file_extension": ".py",
   "mimetype": "text/x-python",
   "name": "python",
   "nbconvert_exporter": "python",
   "pygments_lexer": "ipython3",
   "version": "3.12.7"
  }
 },
 "nbformat": 4,
 "nbformat_minor": 2
}
