{
 "cells": [
  {
   "cell_type": "markdown",
   "metadata": {},
   "source": [
    "## Problem 6\n",
    "The sum of the squares of the first ten natural numbers is,\n",
    "1**2 + 2**2 + 3**2 + 4**2 + ....+ 10**2= 385\n",
    "\n",
    "The square of the sum of the first ten natural numbers is,\n",
    "(1+2+3+....+10)**2= 55**2 =3025\n",
    "\n",
    "Hence the difference between the sum of the squares of the first ten natural numbers and the square of the sum is \n",
    "3025-385=2640\n",
    ".\n",
    "\n",
    "Find the difference between the sum of the squares of the first one hundred natural numbers and the square of the sum."
   ]
  },
  {
   "cell_type": "code",
   "execution_count": null,
   "metadata": {},
   "outputs": [
    {
     "name": "stdout",
     "output_type": "stream",
     "text": [
      "25164150\n"
     ]
    }
   ],
   "source": [
    "def sum_of_squares(a):\n",
    "    List_of_number=[]\n",
    "    for i in range(1,a+1):\n",
    "        squares=i**2\n",
    "        List_of_number.append(squares)\n",
    "    sum=0\n",
    "    for x in List_of_number:\n",
    "        sum+=x\n",
    "    return sum\n",
    "def squares_of_sum(s):#Developed by Esma Tanşa\n",
    "    sum2=0\n",
    "    for b in range(1,s+1):\n",
    "        sum2+=b\n",
    "    return sum2**2\n",
    "print(squares_of_sum(100)-sum_of_squares(100))\n"
   ]
  }
 ],
 "metadata": {
  "kernelspec": {
   "display_name": "Python 3",
   "language": "python",
   "name": "python3"
  },
  "language_info": {
   "codemirror_mode": {
    "name": "ipython",
    "version": 3
   },
   "file_extension": ".py",
   "mimetype": "text/x-python",
   "name": "python",
   "nbconvert_exporter": "python",
   "pygments_lexer": "ipython3",
   "version": "3.12.7"
  }
 },
 "nbformat": 4,
 "nbformat_minor": 2
}
