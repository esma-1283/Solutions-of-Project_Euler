{
 "cells": [
  {
   "cell_type": "markdown",
   "metadata": {},
   "source": [
    "## Problem 42\n",
    "\n",
    "\n",
    "The nth term of the sequence of triangle numbers is given by, tn = 1/2 * n * (n + 1); \n",
    "so the first ten triangle numbers are:\n",
    "\n",
    "\n",
    "1, 3, 6, 10, 15, 21, 28, 36, 45, 55, ...\n",
    "\n",
    "\n",
    "By converting each letter in a word to a number corresponding to its alphabetical position \n",
    "and adding these values we form a word value. \n",
    "For example, the word value for SKY is 19 + 11 + 25 = 55 = t10. \n",
    "If the word value is a triangle number then we shall call the word a triangle word.\n",
    "\n",
    "\n",
    "Using words.txt (right click and 'Save Link/Target As...'), a 16K text file containing nearly \n",
    "two-thousand common English words, how many are triangle words?"
   ]
  },
  {
   "cell_type": "code",
   "execution_count": 28,
   "metadata": {},
   "outputs": [
    {
     "data": {
      "text/plain": [
       "162"
      ]
     },
     "execution_count": 28,
     "metadata": {},
     "output_type": "execute_result"
    }
   ],
   "source": [
    "Dict_letter={\"a\":1, \"b\":2, \"c\":3, \"d\":4, \"e\":5, \"f\":6, \"g\":7, \"h\":8, \"i\":9, \"j\":10, \"k\":11, \"l\":12, \"m\":13, \"n\":14, \"o\":15, \"p\":16, \"q\":17, \"r\":18, \"s\":19, \"t\":20, \"u\":21, \"v\":22, \"w\":23, \"x\":24, \"y\":25, \"z\":26}\n",
    "\n",
    "def score_of_name(name):\n",
    "    Sum=0\n",
    "    for i in name:\n",
    "        i=i.lower()\n",
    "        if i in Dict_letter:\n",
    "            Sum+=Dict_letter[i]\n",
    "    return Sum\n",
    "sequence_of_triangle_numbers=[]\n",
    "for i in range(1,25):\n",
    "    i=(i*(i+1))/2\n",
    "    sequence_of_triangle_numbers.append(i)#Developed by Esma Tanşa\n",
    "\n",
    "with open(\"Problem42_Words.txt\",\"r+\") as file:\n",
    "    All_names=file.read()\n",
    "    edit=All_names.replace('\"',\"\")\n",
    "    organized=edit.split(\",\")\n",
    "\n",
    "Solution_list=[]\n",
    "for i in organized:\n",
    "    i=score_of_name(i)\n",
    "    if i in sequence_of_triangle_numbers:\n",
    "        Solution_list.append(i)\n",
    "\n",
    "len(Solution_list)"
   ]
  }
 ],
 "metadata": {
  "kernelspec": {
   "display_name": "Python 3",
   "language": "python",
   "name": "python3"
  },
  "language_info": {
   "codemirror_mode": {
    "name": "ipython",
    "version": 3
   },
   "file_extension": ".py",
   "mimetype": "text/x-python",
   "name": "python",
   "nbconvert_exporter": "python",
   "pygments_lexer": "ipython3",
   "version": "3.12.7"
  }
 },
 "nbformat": 4,
 "nbformat_minor": 2
}
