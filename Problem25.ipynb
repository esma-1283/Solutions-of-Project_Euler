{
 "cells": [
  {
   "cell_type": "markdown",
   "metadata": {},
   "source": [
    "## Problem 25\n",
    "The Fibonacci sequence is defined by the recurrence relation:\n",
    "Fn = Fn-1 + Fn-2 where F1=1 and F2=1.\n",
    "\n",
    "Hence the first 12 terms will be:\n",
    "\n",
    "    F_1 = 1\n",
    "    F_2 = 1\n",
    "    F_3 = 2\n",
    "    F_4 = 3\n",
    "    F_5 = 5\n",
    "    F_6 = 8\n",
    "    F_7 = 13\n",
    "    F_8 = 21\n",
    "    F_9 = 34\n",
    "    F_10 = 55\n",
    "    F_11 = 89\n",
    "    F_12 = 144\n",
    "\n",
    "The 12th term,  F_12 is the first term to contain three digits.\n",
    "\n",
    "What is the index of the first term in the Fibonacci sequence to contain 1000 digits?"
   ]
  },
  {
   "cell_type": "code",
   "execution_count": 1,
   "metadata": {},
   "outputs": [
    {
     "name": "stdout",
     "output_type": "stream",
     "text": [
      "4782\n"
     ]
    }
   ],
   "source": [
    "List=[1,1]\n",
    "A=List[len(List)-2]\n",
    "B=List[-1]\n",
    "while len(str(B))<1000:\n",
    "    A,B=B,A+B\n",
    "    List.append(B)\n",
    "print(len(List))"
   ]
  },
  {
   "cell_type": "code",
   "execution_count": 2,
   "metadata": {},
   "outputs": [
    {
     "name": "stdout",
     "output_type": "stream",
     "text": [
      "4782\n"
     ]
    }
   ],
   "source": [
    "A,B=1,1\n",
    "index=2\n",
    "while len(str(B))<1000:\n",
    "    A,B=B,A+B\n",
    "    index+=1\n",
    "print(index)"
   ]
  }
 ],
 "metadata": {
  "kernelspec": {
   "display_name": "Python 3",
   "language": "python",
   "name": "python3"
  },
  "language_info": {
   "codemirror_mode": {
    "name": "ipython",
    "version": 3
   },
   "file_extension": ".py",
   "mimetype": "text/x-python",
   "name": "python",
   "nbconvert_exporter": "python",
   "pygments_lexer": "ipython3",
   "version": "3.12.7"
  }
 },
 "nbformat": 4,
 "nbformat_minor": 2
}
