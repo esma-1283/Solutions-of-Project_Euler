{
 "cells": [
  {
   "cell_type": "markdown",
   "metadata": {},
   "source": [
    "## Problem 30\n",
    "Surprisingly there are only three numbers that can be written as the sum of fourth powers of their digits:\n",
    " 1634 = 1 ** 4 + 6 ** 4 + 3 ** 4 + 4 ** 4\n",
    " 8208 = 8 ** 4 + 2 ** 4 + 0 ** 4 + 8 ** 4\n",
    " 9474 = 9 ** 4 + 4 ** 4 + 7 ** 4 + 4 ** 4\n",
    "\n",
    "\n",
    "As 1 = 1**4 is not a sum it is not included.\n",
    "The sum of these numbers is \n",
    "1634 + 8208 + 9474 = 19316\n",
    "\n",
    ".\n",
    "\n",
    "Find the sum of all the numbers that can be written as the sum of fifth powers of their digits."
   ]
  },
  {
   "cell_type": "code",
   "execution_count": 5,
   "metadata": {},
   "outputs": [
    {
     "name": "stdout",
     "output_type": "stream",
     "text": [
      "6\n"
     ]
    }
   ],
   "source": [
    "    \n",
    "for step in range(1,10):\n",
    "    value=step*(9**5)\n",
    "    value = str(value)\n",
    "    if len(value)<=step:\n",
    "        break\n",
    "print(step)\n"
   ]
  },
  {
   "cell_type": "code",
   "execution_count": null,
   "metadata": {},
   "outputs": [
    {
     "data": {
      "text/plain": [
       "443839"
      ]
     },
     "execution_count": 8,
     "metadata": {},
     "output_type": "execute_result"
    }
   ],
   "source": [
    "max_value= step*(9**5)\n",
    "sum_of_all=0\n",
    "for i in range(2,max_value):\n",
    "    sum=0\n",
    "    for j in str(i):\n",
    "        sum+=int(j)**5#Developed by Esma Tanşa\n",
    "    if sum==i:\n",
    "        sum_of_all+=i\n",
    "sum_of_all\n",
    "        \n",
    "\n",
    "\n",
    "\n"
   ]
  }
 ],
 "metadata": {
  "kernelspec": {
   "display_name": "Python 3",
   "language": "python",
   "name": "python3"
  },
  "language_info": {
   "codemirror_mode": {
    "name": "ipython",
    "version": 3
   },
   "file_extension": ".py",
   "mimetype": "text/x-python",
   "name": "python",
   "nbconvert_exporter": "python",
   "pygments_lexer": "ipython3",
   "version": "3.12.7"
  }
 },
 "nbformat": 4,
 "nbformat_minor": 2
}
