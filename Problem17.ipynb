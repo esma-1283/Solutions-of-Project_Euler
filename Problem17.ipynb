{
 "cells": [
  {
   "cell_type": "markdown",
   "metadata": {},
   "source": [
    "## Problem 17\n",
    "[Project Euler Problem17](https://projecteuler.net/problem=17)"
   ]
  },
  {
   "cell_type": "code",
   "execution_count": null,
   "metadata": {},
   "outputs": [],
   "source": [
    "ones={\"one\":3,\"two\":3,\"three\":5,\"four\":4,\"five\":4,\"six\":3,\"seven\":5,\"eight\":5,\"nine\":4}\n",
    "tens={\"twenty\":6,\"thirty\":6,\"fourty\":6,\"fifty\":5,\"sixty\":5,\"seventy\":7,\"eighty\":6,\"ninety\":6}\n",
    "special_range={\"ten\":3,\"eleven\":6,\"twelve\":6,\"thirteen\":8,\"fourteen\":8,\"fifteen\":7,\"sixteen\":7,\"seventeen\":9,\"eighteen\":8,\"ninteen\":7}\n",
    "hundred=7\n",
    "thousand=8\n",
    "\n"
   ]
  },
  {
   "cell_type": "code",
   "execution_count": 9,
   "metadata": {},
   "outputs": [
    {
     "name": "stdout",
     "output_type": "stream",
     "text": [
      "21124\n"
     ]
    }
   ],
   "source": [
    "ones = {0: 0, 1: 3, 2: 3, 3: 5, 4: 4, 5: 4, 6: 3, 7: 5, 8: 5, 9: 4}\n",
    "tens = {0: 0, 10: 3, 20: 6, 30: 6, 40: 5, 50: 5, 60: 5, 70: 7, 80: 6, 90: 6}\n",
    "special_range = {10: 3, 11: 6, 12: 6, 13: 8, 14: 8, 15: 7, 16: 7, 17: 9, 18: 8, 19: 8}\n",
    "special = {100: 7, 1000: 8}\n",
    "andd = 3\n",
    "sum = 0\n",
    "\n",
    "for i in range(1, 1001):\n",
    "    if i in ones.keys():  \n",
    "        sum += ones[i]\n",
    "    elif i in special_range.keys(): \n",
    "        sum += special_range[i]\n",
    "    elif 20 <= i < 100: \n",
    "        sum += tens[(i // 10) * 10]\n",
    "        sum += ones[i % 10]\n",
    "    elif i == 100:  \n",
    "        sum += ones[i // 100]  \n",
    "        sum += special[100]  \n",
    "    elif 100 < i < 1000: \n",
    "        sum += ones[i // 100] \n",
    "        sum += special[100] \n",
    "        if i % 100 != 0:\n",
    "            sum += andd\n",
    "            remainder = i % 100\n",
    "            if remainder in special_range.keys(): \n",
    "                sum += special_range[remainder]\n",
    "            else:\n",
    "                sum += tens[(remainder // 10) * 10]\n",
    "                sum += ones[remainder % 10]\n",
    "    elif i == 1000: \n",
    "        sum += ones[1] \n",
    "        sum += special[1000] \n",
    "\n",
    "print(sum)\n"
   ]
  }
 ],
 "metadata": {
  "kernelspec": {
   "display_name": "Python 3",
   "language": "python",
   "name": "python3"
  },
  "language_info": {
   "codemirror_mode": {
    "name": "ipython",
    "version": 3
   },
   "file_extension": ".py",
   "mimetype": "text/x-python",
   "name": "python",
   "nbconvert_exporter": "python",
   "pygments_lexer": "ipython3",
   "version": "3.12.7"
  }
 },
 "nbformat": 4,
 "nbformat_minor": 2
}
