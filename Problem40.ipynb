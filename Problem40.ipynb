{
 "cells": [
  {
   "cell_type": "markdown",
   "metadata": {},
   "source": [
    "## Problem 40\n",
    "An irrational decimal fraction is created by concatenating the positive integers:\n",
    "\n",
    "0.123456789101112131415161718192021...\n",
    "\n",
    "It can be seen that the 12th digit of the fractional part is 1.\n",
    "\n",
    "If \n",
    "𝑑\n",
    "𝑛\n",
    "d \n",
    "n\n",
    "​\n",
    "  represents the \n",
    "𝑛\n",
    "n-th digit of the fractional part, find the value of the following expression:\n",
    "\n",
    "𝑑\n",
    "1\n",
    "×\n",
    "𝑑\n",
    "10\n",
    "×\n",
    "𝑑\n",
    "100\n",
    "×\n",
    "𝑑\n",
    "1000\n",
    "×\n",
    "𝑑\n",
    "10000\n",
    "×\n",
    "𝑑\n",
    "100000\n",
    "×\n",
    "𝑑\n",
    "1000000\n",
    "d \n",
    "1\n",
    "​\n",
    " ×d \n",
    "10\n",
    "​\n",
    " ×d \n",
    "100\n",
    "​\n",
    " ×d \n",
    "1000\n",
    "​\n",
    " ×d \n",
    "10000\n",
    "​\n",
    " ×d \n",
    "100000\n",
    "​\n",
    " ×d \n",
    "1000000\n",
    "​\n",
    "\n"
   ]
  },
  {
   "cell_type": "code",
   "execution_count": 19,
   "metadata": {},
   "outputs": [
    {
     "name": "stdout",
     "output_type": "stream",
     "text": [
      "1088889\n"
     ]
    }
   ],
   "source": [
    "plugin=\"\"\n",
    "for i in range(1,200000):\n",
    "    plugin+=str(i)\n",
    "print(len(plugin))"
   ]
  },
  {
   "cell_type": "code",
   "execution_count": 20,
   "metadata": {},
   "outputs": [
    {
     "data": {
      "text/plain": [
       "210"
      ]
     },
     "execution_count": 20,
     "metadata": {},
     "output_type": "execute_result"
    }
   ],
   "source": [
    "int(plugin[1-1])*int(plugin[10-1])*int(plugin[100-1])*int(plugin[1000-1])*int(plugin[10000-1])*int(plugin[100000-1])*int(plugin[1000000-1])"
   ]
  }
 ],
 "metadata": {
  "kernelspec": {
   "display_name": "Python 3",
   "language": "python",
   "name": "python3"
  },
  "language_info": {
   "codemirror_mode": {
    "name": "ipython",
    "version": 3
   },
   "file_extension": ".py",
   "mimetype": "text/x-python",
   "name": "python",
   "nbconvert_exporter": "python",
   "pygments_lexer": "ipython3",
   "version": "3.12.7"
  }
 },
 "nbformat": 4,
 "nbformat_minor": 2
}
